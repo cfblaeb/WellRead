{
 "cells": [
  {
   "cell_type": "code",
   "execution_count": 1,
   "metadata": {
    "pycharm": {
     "is_executing": false
    }
   },
   "outputs": [],
   "source": [
    "from asyncio import get_event_loop\n",
    "from websockets import serve\n",
    "from matplotlib import pyplot as plt\n",
    "from matplotlib import patches\n",
    "from numpy import array\n",
    "from skimage import io, transform\n",
    "from skimage import color, data, restoration\n",
    "from collections import Counter\n",
    "from pylibdmtx.pylibdmtx import decode\n",
    "from multiprocessing import Pool\n",
    "from io import BytesIO, StringIO\n",
    "from json import dumps, loads, load\n",
    "from uuid import uuid4\n",
    "from math import cos, sin, pi\n",
    "import base64\n",
    "from glob import glob\n",
    "%matplotlib inline"
   ]
  },
  {
   "cell_type": "code",
   "execution_count": 2,
   "metadata": {
    "pycharm": {
     "is_executing": false
    }
   },
   "outputs": [],
   "source": [
    "def decode_thread(pp_more):\n",
    "    well = array(pp_more['well'])\n",
    "    if well.shape[0] > 0 and well.shape[1] > 0:\n",
    "        # try shrink\n",
    "        res = decode(well, shrink=2, max_count=1)\n",
    "        if res and res[0].data.decode().isnumeric():\n",
    "            return {**pp_more['pp'], 'barcode': res[0].data.decode()}\n",
    "        # try defaults\n",
    "        res = decode(well, max_count=1)\n",
    "        if res and res[0].data.decode().isnumeric():\n",
    "            return {**pp_more['pp'], 'barcode': res[0].data.decode()}\n",
    "        # try threshold\n",
    "        res = decode(well, threshold=100, max_count=1)\n",
    "        if res and res[0].data.decode().isnumeric():\n",
    "            return {**pp_more['pp'], 'barcode': res[0].data.decode()}\n",
    "    return {**pp_more['pp'], 'barcode': \"failed\"}\n",
    "\n",
    "\n",
    "def map_wells(col, row, orientation):\n",
    "    if orientation == 'landscape':  # \"normal\". A1 is top left\n",
    "        return f\"{['A','B','C','D','E','F','G','H'][row]}{col+1}\"\n",
    "    else:  # rotated 90 degrees right\n",
    "        return f\"{['H','G','F','E','D','C','B','A'][col]}{row+1}\"\n",
    "\n",
    "\n",
    "def analyze_image(image, pps):\n",
    "    wells = [{'pp':pp, 'well': image[pp['minY']:pp['maxY'], pp['minX']:pp['maxX']]} for pp in pps]\n",
    "    with Pool(8) as p:\n",
    "        rar = p.map(decode_thread, wells)\n",
    "    return rar"
   ]
  },
  {
   "cell_type": "code",
   "execution_count": 3,
   "metadata": {
    "pycharm": {
     "is_executing": false
    }
   },
   "outputs": [
    {
     "name": "stdout",
     "output_type": "stream",
     "text": [
      "['../32350698-0848-4a0e-a347-6266303819c0.json', '../331e62a9-b144-4842-aa07-c2f21ae02986.json', '../a7c8c6a9-485b-4cab-b5f5-f3af743b8a56.json', '../f530df66-311f-4c45-94cc-738caec8cbca.json', '../6a29c940-06a0-4de3-af9c-6820fe240999.json', '../c50bcc6c-6639-4601-be23-060c803b00ed.json', '../0f37293e-dd4b-4691-bbce-5778e997c0e7.json']\n"
     ]
    }
   ],
   "source": [
    "print(glob(\"../*.json\"))\n",
    "files = glob(\"../*.json\")"
   ]
  },
  {
   "cell_type": "code",
   "execution_count": 9,
   "metadata": {
    "pycharm": {}
   },
   "outputs": [
    {
     "name": "stdout",
     "output_type": "stream",
     "text": [
      "(1920, 1080, 4)\n",
      "5\n"
     ]
    }
   ],
   "source": [
    "print(image_zero.shape)\n",
    "print(len(images))\n",
    "#(1440, 1920,\n"
   ]
  },
  {
   "cell_type": "code",
   "execution_count": 8,
   "metadata": {
    "pycharm": {
     "is_executing": false
    }
   },
   "outputs": [
    {
     "data": {
      "text/plain": [
       "(1920, 1080, 4)"
      ]
     },
     "execution_count": 8,
     "metadata": {},
     "output_type": "execute_result"
    }
   ],
   "source": [
    "image_zero.shape"
   ]
  },
  {
   "cell_type": "code",
   "execution_count": null,
   "metadata": {
    "pycharm": {
     "is_executing": false
    }
   },
   "outputs": [],
   "source": []
  },
  {
   "cell_type": "code",
   "execution_count": 5,
   "metadata": {
    "pycharm": {
     "is_executing": false
    }
   },
   "outputs": [],
   "source": [
    "all_data = load(open(files[1], 'r'))"
   ]
  },
  {
   "cell_type": "code",
   "execution_count": 6,
   "metadata": {
    "pycharm": {}
   },
   "outputs": [],
   "source": [
    "grid = all_data['grid']\n",
    "iscale = all_data['scale']\n",
    "images = all_data['images']\n",
    "image_zero = io.imread(BytesIO(base64.decodebytes(images[0]['src'].split(',')[1].encode())))"
   ]
  },
  {
   "cell_type": "code",
   "execution_count": 7,
   "metadata": {
    "pycharm": {}
   },
   "outputs": [
    {
     "ename": "ValueError",
     "evalue": "too many values to unpack (expected 3)",
     "output_type": "error",
     "traceback": [
      "\u001b[0;31m---------------------------------------------------------------------------\u001b[0m",
      "\u001b[0;31mRemoteTraceback\u001b[0m                           Traceback (most recent call last)",
      "\u001b[0;31mRemoteTraceback\u001b[0m: \n\"\"\"\nTraceback (most recent call last):\n  File \"/home/laeb/.pyenv/versions/3.7.2/lib/python3.7/multiprocessing/pool.py\", line 121, in worker\n    result = (True, func(*args, **kwds))\n  File \"/home/laeb/.pyenv/versions/3.7.2/lib/python3.7/multiprocessing/pool.py\", line 44, in mapstar\n    return list(map(*args))\n  File \"<ipython-input-2-b51cab27b38d>\", line 4, in decode_thread\n    res = decode(pp_more['well'], shrink=2, max_count=1)\n  File \"/home/laeb/.pyenv/versions/3.7.2/envs/barco/lib/python3.7/site-packages/pylibdmtx/pylibdmtx.py\", line 255, in decode\n    pixels, width, height, bpp = _pixel_data(image)\n  File \"/home/laeb/.pyenv/versions/3.7.2/envs/barco/lib/python3.7/site-packages/pylibdmtx/pylibdmtx.py\", line 203, in _pixel_data\n    pixels, width, height = image\nValueError: too many values to unpack (expected 3)\n\"\"\"",
      "\nThe above exception was the direct cause of the following exception:\n",
      "\u001b[0;31mValueError\u001b[0m                                Traceback (most recent call last)",
      "\u001b[0;32m<ipython-input-7-edfe67b6398f>\u001b[0m in \u001b[0;36m<module>\u001b[0;34m\u001b[0m\n\u001b[1;32m     32\u001b[0m \u001b[0;34m\u001b[0m\u001b[0m\n\u001b[1;32m     33\u001b[0m \u001b[0;34m\u001b[0m\u001b[0m\n\u001b[0;32m---> 34\u001b[0;31m \u001b[0mresults\u001b[0m \u001b[0;34m=\u001b[0m \u001b[0;34m[\u001b[0m\u001b[0manalyze_image\u001b[0m\u001b[0;34m(\u001b[0m\u001b[0mio\u001b[0m\u001b[0;34m.\u001b[0m\u001b[0mimread\u001b[0m\u001b[0;34m(\u001b[0m\u001b[0mBytesIO\u001b[0m\u001b[0;34m(\u001b[0m\u001b[0mbase64\u001b[0m\u001b[0;34m.\u001b[0m\u001b[0mdecodebytes\u001b[0m\u001b[0;34m(\u001b[0m\u001b[0mimage\u001b[0m\u001b[0;34m[\u001b[0m\u001b[0;34m'src'\u001b[0m\u001b[0;34m]\u001b[0m\u001b[0;34m.\u001b[0m\u001b[0msplit\u001b[0m\u001b[0;34m(\u001b[0m\u001b[0;34m','\u001b[0m\u001b[0;34m)\u001b[0m\u001b[0;34m[\u001b[0m\u001b[0;36m1\u001b[0m\u001b[0;34m]\u001b[0m\u001b[0;34m.\u001b[0m\u001b[0mencode\u001b[0m\u001b[0;34m(\u001b[0m\u001b[0;34m)\u001b[0m\u001b[0;34m)\u001b[0m\u001b[0;34m)\u001b[0m\u001b[0;34m)\u001b[0m\u001b[0;34m,\u001b[0m \u001b[0mpps\u001b[0m\u001b[0;34m)\u001b[0m \u001b[0;32mfor\u001b[0m \u001b[0mimage\u001b[0m \u001b[0;32min\u001b[0m \u001b[0mimages\u001b[0m\u001b[0;34m]\u001b[0m\u001b[0;34m\u001b[0m\u001b[0;34m\u001b[0m\u001b[0m\n\u001b[0m\u001b[1;32m     35\u001b[0m \u001b[0;34m\u001b[0m\u001b[0m\n\u001b[1;32m     36\u001b[0m \u001b[0;31m# analyze results\u001b[0m\u001b[0;34m\u001b[0m\u001b[0;34m\u001b[0m\u001b[0;34m\u001b[0m\u001b[0m\n",
      "\u001b[0;32m<ipython-input-7-edfe67b6398f>\u001b[0m in \u001b[0;36m<listcomp>\u001b[0;34m(.0)\u001b[0m\n\u001b[1;32m     32\u001b[0m \u001b[0;34m\u001b[0m\u001b[0m\n\u001b[1;32m     33\u001b[0m \u001b[0;34m\u001b[0m\u001b[0m\n\u001b[0;32m---> 34\u001b[0;31m \u001b[0mresults\u001b[0m \u001b[0;34m=\u001b[0m \u001b[0;34m[\u001b[0m\u001b[0manalyze_image\u001b[0m\u001b[0;34m(\u001b[0m\u001b[0mio\u001b[0m\u001b[0;34m.\u001b[0m\u001b[0mimread\u001b[0m\u001b[0;34m(\u001b[0m\u001b[0mBytesIO\u001b[0m\u001b[0;34m(\u001b[0m\u001b[0mbase64\u001b[0m\u001b[0;34m.\u001b[0m\u001b[0mdecodebytes\u001b[0m\u001b[0;34m(\u001b[0m\u001b[0mimage\u001b[0m\u001b[0;34m[\u001b[0m\u001b[0;34m'src'\u001b[0m\u001b[0;34m]\u001b[0m\u001b[0;34m.\u001b[0m\u001b[0msplit\u001b[0m\u001b[0;34m(\u001b[0m\u001b[0;34m','\u001b[0m\u001b[0;34m)\u001b[0m\u001b[0;34m[\u001b[0m\u001b[0;36m1\u001b[0m\u001b[0;34m]\u001b[0m\u001b[0;34m.\u001b[0m\u001b[0mencode\u001b[0m\u001b[0;34m(\u001b[0m\u001b[0;34m)\u001b[0m\u001b[0;34m)\u001b[0m\u001b[0;34m)\u001b[0m\u001b[0;34m)\u001b[0m\u001b[0;34m,\u001b[0m \u001b[0mpps\u001b[0m\u001b[0;34m)\u001b[0m \u001b[0;32mfor\u001b[0m \u001b[0mimage\u001b[0m \u001b[0;32min\u001b[0m \u001b[0mimages\u001b[0m\u001b[0;34m]\u001b[0m\u001b[0;34m\u001b[0m\u001b[0;34m\u001b[0m\u001b[0m\n\u001b[0m\u001b[1;32m     35\u001b[0m \u001b[0;34m\u001b[0m\u001b[0m\n\u001b[1;32m     36\u001b[0m \u001b[0;31m# analyze results\u001b[0m\u001b[0;34m\u001b[0m\u001b[0;34m\u001b[0m\u001b[0;34m\u001b[0m\u001b[0m\n",
      "\u001b[0;32m<ipython-input-2-b51cab27b38d>\u001b[0m in \u001b[0;36manalyze_image\u001b[0;34m(image, pps)\u001b[0m\n\u001b[1;32m     26\u001b[0m     \u001b[0mwells\u001b[0m \u001b[0;34m=\u001b[0m \u001b[0;34m[\u001b[0m\u001b[0;34m{\u001b[0m\u001b[0;34m'pp'\u001b[0m\u001b[0;34m:\u001b[0m\u001b[0mpp\u001b[0m\u001b[0;34m,\u001b[0m \u001b[0;34m'well'\u001b[0m\u001b[0;34m:\u001b[0m \u001b[0mimage\u001b[0m\u001b[0;34m[\u001b[0m\u001b[0mpp\u001b[0m\u001b[0;34m[\u001b[0m\u001b[0;34m'minY'\u001b[0m\u001b[0;34m]\u001b[0m\u001b[0;34m:\u001b[0m\u001b[0mpp\u001b[0m\u001b[0;34m[\u001b[0m\u001b[0;34m'maxY'\u001b[0m\u001b[0;34m]\u001b[0m\u001b[0;34m,\u001b[0m \u001b[0mpp\u001b[0m\u001b[0;34m[\u001b[0m\u001b[0;34m'minX'\u001b[0m\u001b[0;34m]\u001b[0m\u001b[0;34m:\u001b[0m\u001b[0mpp\u001b[0m\u001b[0;34m[\u001b[0m\u001b[0;34m'maxX'\u001b[0m\u001b[0;34m]\u001b[0m\u001b[0;34m]\u001b[0m\u001b[0;34m}\u001b[0m \u001b[0;32mfor\u001b[0m \u001b[0mpp\u001b[0m \u001b[0;32min\u001b[0m \u001b[0mpps\u001b[0m\u001b[0;34m]\u001b[0m\u001b[0;34m\u001b[0m\u001b[0;34m\u001b[0m\u001b[0m\n\u001b[1;32m     27\u001b[0m     \u001b[0;32mwith\u001b[0m \u001b[0mPool\u001b[0m\u001b[0;34m(\u001b[0m\u001b[0;36m8\u001b[0m\u001b[0;34m)\u001b[0m \u001b[0;32mas\u001b[0m \u001b[0mp\u001b[0m\u001b[0;34m:\u001b[0m\u001b[0;34m\u001b[0m\u001b[0;34m\u001b[0m\u001b[0m\n\u001b[0;32m---> 28\u001b[0;31m         \u001b[0mrar\u001b[0m \u001b[0;34m=\u001b[0m \u001b[0mp\u001b[0m\u001b[0;34m.\u001b[0m\u001b[0mmap\u001b[0m\u001b[0;34m(\u001b[0m\u001b[0mdecode_thread\u001b[0m\u001b[0;34m,\u001b[0m \u001b[0mwells\u001b[0m\u001b[0;34m)\u001b[0m\u001b[0;34m\u001b[0m\u001b[0;34m\u001b[0m\u001b[0m\n\u001b[0m\u001b[1;32m     29\u001b[0m     \u001b[0;32mreturn\u001b[0m \u001b[0mrar\u001b[0m\u001b[0;34m\u001b[0m\u001b[0;34m\u001b[0m\u001b[0m\n",
      "\u001b[0;32m~/.pyenv/versions/3.7.2/lib/python3.7/multiprocessing/pool.py\u001b[0m in \u001b[0;36mmap\u001b[0;34m(self, func, iterable, chunksize)\u001b[0m\n\u001b[1;32m    266\u001b[0m         \u001b[0;32min\u001b[0m \u001b[0ma\u001b[0m \u001b[0mlist\u001b[0m \u001b[0mthat\u001b[0m \u001b[0;32mis\u001b[0m \u001b[0mreturned\u001b[0m\u001b[0;34m.\u001b[0m\u001b[0;34m\u001b[0m\u001b[0;34m\u001b[0m\u001b[0m\n\u001b[1;32m    267\u001b[0m         '''\n\u001b[0;32m--> 268\u001b[0;31m         \u001b[0;32mreturn\u001b[0m \u001b[0mself\u001b[0m\u001b[0;34m.\u001b[0m\u001b[0m_map_async\u001b[0m\u001b[0;34m(\u001b[0m\u001b[0mfunc\u001b[0m\u001b[0;34m,\u001b[0m \u001b[0miterable\u001b[0m\u001b[0;34m,\u001b[0m \u001b[0mmapstar\u001b[0m\u001b[0;34m,\u001b[0m \u001b[0mchunksize\u001b[0m\u001b[0;34m)\u001b[0m\u001b[0;34m.\u001b[0m\u001b[0mget\u001b[0m\u001b[0;34m(\u001b[0m\u001b[0;34m)\u001b[0m\u001b[0;34m\u001b[0m\u001b[0;34m\u001b[0m\u001b[0m\n\u001b[0m\u001b[1;32m    269\u001b[0m \u001b[0;34m\u001b[0m\u001b[0m\n\u001b[1;32m    270\u001b[0m     \u001b[0;32mdef\u001b[0m \u001b[0mstarmap\u001b[0m\u001b[0;34m(\u001b[0m\u001b[0mself\u001b[0m\u001b[0;34m,\u001b[0m \u001b[0mfunc\u001b[0m\u001b[0;34m,\u001b[0m \u001b[0miterable\u001b[0m\u001b[0;34m,\u001b[0m \u001b[0mchunksize\u001b[0m\u001b[0;34m=\u001b[0m\u001b[0;32mNone\u001b[0m\u001b[0;34m)\u001b[0m\u001b[0;34m:\u001b[0m\u001b[0;34m\u001b[0m\u001b[0;34m\u001b[0m\u001b[0m\n",
      "\u001b[0;32m~/.pyenv/versions/3.7.2/lib/python3.7/multiprocessing/pool.py\u001b[0m in \u001b[0;36mget\u001b[0;34m(self, timeout)\u001b[0m\n\u001b[1;32m    655\u001b[0m             \u001b[0;32mreturn\u001b[0m \u001b[0mself\u001b[0m\u001b[0;34m.\u001b[0m\u001b[0m_value\u001b[0m\u001b[0;34m\u001b[0m\u001b[0;34m\u001b[0m\u001b[0m\n\u001b[1;32m    656\u001b[0m         \u001b[0;32melse\u001b[0m\u001b[0;34m:\u001b[0m\u001b[0;34m\u001b[0m\u001b[0;34m\u001b[0m\u001b[0m\n\u001b[0;32m--> 657\u001b[0;31m             \u001b[0;32mraise\u001b[0m \u001b[0mself\u001b[0m\u001b[0;34m.\u001b[0m\u001b[0m_value\u001b[0m\u001b[0;34m\u001b[0m\u001b[0;34m\u001b[0m\u001b[0m\n\u001b[0m\u001b[1;32m    658\u001b[0m \u001b[0;34m\u001b[0m\u001b[0m\n\u001b[1;32m    659\u001b[0m     \u001b[0;32mdef\u001b[0m \u001b[0m_set\u001b[0m\u001b[0;34m(\u001b[0m\u001b[0mself\u001b[0m\u001b[0;34m,\u001b[0m \u001b[0mi\u001b[0m\u001b[0;34m,\u001b[0m \u001b[0mobj\u001b[0m\u001b[0;34m)\u001b[0m\u001b[0;34m:\u001b[0m\u001b[0;34m\u001b[0m\u001b[0;34m\u001b[0m\u001b[0m\n",
      "\u001b[0;31mValueError\u001b[0m: too many values to unpack (expected 3)"
     ]
    }
   ],
   "source": [
    "scale = image_zero.shape[1] / iscale\n",
    "if grid['width'] > grid['height']:\n",
    "    grid_size = (grid['width'] / 12) * scale\n",
    "    orientation = \"landscape\"\n",
    "    no_rows = 8\n",
    "    no_cols = 12\n",
    "else:\n",
    "    grid_size = (grid['height'] / 12) * scale\n",
    "    orientation = \"portrait\"\n",
    "    no_rows = 12\n",
    "    no_cols = 8\n",
    "width = grid_size * grid['scaleX']\n",
    "height = grid_size * grid['scaleY']\n",
    "ori_x = grid['left'] * scale\n",
    "ori_y = grid['top'] * scale\n",
    "angle = (grid['angle'] / 360) * 2 * pi\n",
    "pps = []\n",
    "for row in range(no_rows):\n",
    "    for col in range(no_cols):\n",
    "        dx1 = ori_x + width * col * cos(angle) - height * row * sin(angle)\n",
    "        dx2 = ori_x + width * col * cos(angle) - height * (row + 1) * sin(angle)\n",
    "        dx3 = ori_x + width * (col + 1) * cos(angle) - height * (row + 1) * sin(angle)\n",
    "        dx4 = ori_x + width * (col + 1) * cos(angle) - height * row * sin(angle)\n",
    "        dxs = [dx1, dx2, dx3, dx4]\n",
    "        dy1 = ori_y + width * col * sin(angle) + height * row * cos(angle)\n",
    "        dy2 = ori_y + width * col * sin(angle) + height * (row + 1) * cos(angle)\n",
    "        dy3 = ori_y + width * (col + 1) * sin(angle) + height * (row + 1) * cos(angle)\n",
    "        dy4 = ori_y + width * (col + 1) * sin(angle) + height * row * cos(angle)\n",
    "        dys = [dy1, dy2, dy3, dy4]\n",
    "\n",
    "        pps.append({'col':col, 'row': row, 'minY': int(min(dys)), 'maxY': int(max(dys)), 'minX': int(min(dxs)), 'maxX': int(max(dxs)), 'x0': dx1, 'y0':dy1})\n",
    "\n",
    "\n",
    "results = [analyze_image(io.imread(BytesIO(base64.decodebytes(image['src'].split(',')[1].encode()))), pps) for image in images]\n",
    "\n",
    "# analyze results\n",
    "rar = [] #list of well objects with {'row', 'col', 'barcode', 'x0', 'y0'}\n",
    "for well_no in range(no_rows*no_cols):\n",
    "    #check that its the same well\n",
    "    if len(set([results[i][well_no]['col'] for i in range(len(results))]))==1 and len(set([results[i][well_no]['row'] for i in range(len(results))]))==1:\n",
    "        barcodes = [results[i][well_no]['barcode'] for i in range(len(results)) if results[i][well_no]['barcode'] != 'failed']\n",
    "        barcodes_set = set(barcodes)\n",
    "        if len(barcodes_set) == 1:\n",
    "            rar.append({**results[0][well_no], 'barcode':barcodes_set.pop()})\n",
    "        elif len(barcodes_set) == 0:\n",
    "            rar.append({**results[0][well_no], 'barcode':'failed'})\n",
    "        else:\n",
    "            #lets see if theres a concensus\n",
    "            barcodes_counter = Counter(barcodes)\n",
    "            two_most_common = barcodes_counter.most_common(2)\n",
    "            if two_most_common[0][1] == two_most_common[1][1]: # cant decide\n",
    "                rar.append({**results[0][well_no], 'barcode': f\"uncertain: {barcodes}\"})\n",
    "            else:\n",
    "                rar.append({**results[0][well_no], 'barcode': two_most_common[0][0]})\n",
    "    else:\n",
    "        print(\"error...not same well?\")\n",
    "\n",
    "# draw result consensus\n",
    "fig, ax = plt.subplots(1, figsize=(10, 20))\n",
    "ax.imshow(image_zero)\n",
    "rect = patches.Rectangle((grid['left'] * scale, grid['top'] * scale), width=grid['width'] * grid['scaleX'] * scale,\n",
    "                                                 height=grid['height'] * grid['scaleY'] * scale, angle=grid['angle'], linewidth=1,\n",
    "                                                 edgecolor='r', facecolor='none')\n",
    "ar_pa = patches.Arrow(grid['left'] * scale, grid['top'] * scale, cos(((grid['angle'] - 90) / 360) * (2 * pi)) * 50,\n",
    "                                            sin(((grid['angle'] - 90) / 360) * (2 * pi)) * 50, color='green', width=10)\n",
    "ax.add_patch(rect)\n",
    "ax.add_patch(ar_pa)\n",
    "\n",
    "for irar in rar:\n",
    "    if irar['barcode'] == 'failed':\n",
    "        color = 'red'\n",
    "        lw = 3\n",
    "    elif 'uncertain' in irar['barcode']:\n",
    "        color = 'blue'\n",
    "        lw = 3\n",
    "    else:\n",
    "        color = 'green'\n",
    "        lw = 1\n",
    "    mrect = patches.Rectangle((irar['x0'], irar['y0']), width=width, height=height, angle=grid['angle'], linewidth=lw, edgecolor=color,facecolor='none')\n",
    "    ax.add_patch(mrect)\n",
    "\n",
    "\n",
    "plt.show()\n",
    "#return\n",
    "rrar = [{'loc': map_wells(entry['col'], entry['row'], orientation), 'barcode': entry['barcode']} for entry in rar]"
   ]
  },
  {
   "cell_type": "code",
   "execution_count": null,
   "metadata": {
    "pycharm": {}
   },
   "outputs": [],
   "source": [
    "wells = [{'pp':pp, 'well': image[pp['minY']:pp['maxY'], pp['minX']:pp['maxX']]} for pp in pps]\n",
    "results = [analyze_image(io.imread(BytesIO(base64.decodebytes(image['src'].split(',')[1].encode()))), pps) for image in images]\n"
   ]
  },
  {
   "cell_type": "code",
   "execution_count": 15,
   "metadata": {
    "pycharm": {}
   },
   "outputs": [],
   "source": [
    "billed0 = io.imread(BytesIO(base64.decodebytes(images[0]['src'].split(',')[1].encode())))\n",
    "pp0 = pps[0]\n",
    "brond = billed0[pp0['minY']:pp0['maxY'], pp0['minX']:pp0['maxX']]"
   ]
  },
  {
   "cell_type": "code",
   "execution_count": 29,
   "metadata": {
    "pycharm": {}
   },
   "outputs": [
    {
     "data": {
      "text/plain": [
       "[Decoded(data=b'0170878908', rect=Rect(left=98, top=85, width=-35, height=-46))]"
      ]
     },
     "execution_count": 29,
     "metadata": {},
     "output_type": "execute_result"
    }
   ],
   "source": [
    "decode(np.array(brond))"
   ]
  },
  {
   "cell_type": "code",
   "execution_count": 28,
   "metadata": {
    "pycharm": {}
   },
   "outputs": [
    {
     "data": {
      "text/plain": [
       "numpy.ndarray"
      ]
     },
     "execution_count": 28,
     "metadata": {},
     "output_type": "execute_result"
    }
   ],
   "source": [
    "import numpy as np\n",
    "type(np.array(brond))"
   ]
  },
  {
   "cell_type": "code",
   "execution_count": 59,
   "metadata": {
    "pycharm": {}
   },
   "outputs": [
    {
     "data": {
      "text/plain": [
       "dict"
      ]
     },
     "execution_count": 59,
     "metadata": {},
     "output_type": "execute_result"
    }
   ],
   "source": [
    "image, timeout=None, gap_size=None, shrink=1, shape=None,\n",
    "           deviation=None, threshold=None, min_edge=None, max_edge=None,\n",
    "           corrections=None, max_count=None):"
   ]
  }
 ],
 "metadata": {
  "kernelspec": {
   "display_name": "Python 3",
   "language": "python",
   "name": "python3"
  },
  "language_info": {
   "codemirror_mode": {
    "name": "ipython",
    "version": 3
   },
   "file_extension": ".py",
   "mimetype": "text/x-python",
   "name": "python",
   "nbconvert_exporter": "python",
   "pygments_lexer": "ipython3",
   "version": "3.7.2"
  }
 },
 "nbformat": 4,
 "nbformat_minor": 2
}
